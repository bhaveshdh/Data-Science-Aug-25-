{
 "cells": [
  {
   "cell_type": "code",
   "execution_count": 4,
   "metadata": {},
   "outputs": [
    {
     "name": "stdout",
     "output_type": "stream",
     "text": [
      "Enter the 1st no.: 12\n",
      "Enter the 2nd no.: 12\n",
      "enter which operation you want to perform\n",
      "Enter 1 for +,2 for -,3 for * and 4 for /\n",
      "enter your preference: 1\n",
      "12 12 : 24\n"
     ]
    }
   ],
   "source": [
    "num1=int(input(\"Enter the 1st no.: \"))\n",
    "num2=int(input(\"Enter the 2nd no.: \"))\n",
    "\n",
    "print(\"enter which operation you want to perform\")\n",
    "print(\"Enter 1 for +,2 for -,3 for * and 4 for /\")\n",
    "\n",
    "\n",
    "numb=int(input(\"enter your preference: \"))\n",
    "result=0\n",
    "if(numb == 1):\n",
    "    result= num1 + num2\n",
    "elif(numb==2):\n",
    "    result= num1 - num2\n",
    "elif(numb==3):\n",
    "    result= num1 * num2\n",
    "elif(numb==4):\n",
    "    result= num1 / num2\n",
    "else:\n",
    "    print(\"invalid no. selected\")\n",
    "    \n",
    "print(num1 , num2 ,\":\",result)\n"
   ]
  },
  {
   "cell_type": "code",
   "execution_count": null,
   "metadata": {},
   "outputs": [],
   "source": []
  },
  {
   "cell_type": "code",
   "execution_count": null,
   "metadata": {},
   "outputs": [],
   "source": []
  }
 ],
 "metadata": {
  "kernelspec": {
   "display_name": "Python 3",
   "language": "python",
   "name": "python3"
  },
  "language_info": {
   "codemirror_mode": {
    "name": "ipython",
    "version": 3
   },
   "file_extension": ".py",
   "mimetype": "text/x-python",
   "name": "python",
   "nbconvert_exporter": "python",
   "pygments_lexer": "ipython3",
   "version": "3.8.5"
  }
 },
 "nbformat": 4,
 "nbformat_minor": 4
}
