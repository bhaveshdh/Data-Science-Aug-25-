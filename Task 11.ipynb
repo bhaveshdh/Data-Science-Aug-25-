{
 "cells": [
  {
   "cell_type": "markdown",
   "metadata": {},
   "source": [
    "# Task 11.1\n",
    "Explain Return keyword with example."
   ]
  },
  {
   "cell_type": "code",
   "execution_count": 26,
   "metadata": {},
   "outputs": [],
   "source": [
    "def add(num1,num2):\n",
    "    z=num1+num2\n",
    "    return z\n",
    "    print(\"your output is\",+z)\n",
    "#retuen keyword will take back to the function itself again and again."
   ]
  },
  {
   "cell_type": "code",
   "execution_count": 29,
   "metadata": {},
   "outputs": [],
   "source": [
    "my_num=add(11,2)\n"
   ]
  },
  {
   "cell_type": "markdown",
   "metadata": {},
   "source": [
    "# Task 11.2"
   ]
  },
  {
   "cell_type": "code",
   "execution_count": null,
   "metadata": {},
   "outputs": [],
   "source": [
    "num1=int(input('Enter the first no.'))\n",
    "num2=int(input('enter the second no.'))"
   ]
  },
  {
   "cell_type": "code",
   "execution_count": 25,
   "metadata": {},
   "outputs": [
    {
     "name": "stdout",
     "output_type": "stream",
     "text": [
      "Enter the first no.12\n",
      "enter the second no.10\n",
      "Enter which operation you want to perform\n",
      "Enter 1 for +,2 for -,3 for * and 4 for /\n",
      "enter your operation: 3\n",
      "your output is 120\n"
     ]
    }
   ],
   "source": [
    "num1=int(input('Enter the first no.'))\n",
    "num2=int(input('enter the second no.'))\n",
    "\n",
    "print(\"Enter which operation you want to perform\")\n",
    "print(\"Enter 1 for +,2 for -,3 for * and 4 for /\")\n",
    "\n",
    "def add(num1,num2):\n",
    "    z=num1+num2\n",
    "    \n",
    "    print(\"your output is\",+z)\n",
    "    \n",
    "def sub(num1,num2):\n",
    "    z=num1-num2\n",
    "    print(\"your ouput is\",+z)\n",
    "    \n",
    "def mult(num1,num2):\n",
    "    z=num1*num2\n",
    "    print(\"your output is\",+z)\n",
    "    \n",
    "def div(num1,num2):\n",
    "    z=num1/num2\n",
    "    print(\"output is\",+z)\n",
    "    \n",
    "numb=int(input(\"enter your operation: \"))\n",
    "\n",
    "if(numb == 1):\n",
    "    add(num1,num2)\n",
    "elif(numb==2):\n",
    "    sub(num1,num2)\n",
    "elif(numb==3):\n",
    "    mult(num1,num2)\n",
    "elif(numb==4):\n",
    "    div(num1/num2)\n",
    "else:\n",
    "    print(\"invalid no. selected\")\n"
   ]
  },
  {
   "cell_type": "code",
   "execution_count": null,
   "metadata": {},
   "outputs": [],
   "source": []
  }
 ],
 "metadata": {
  "kernelspec": {
   "display_name": "Python 3",
   "language": "python",
   "name": "python3"
  },
  "language_info": {
   "codemirror_mode": {
    "name": "ipython",
    "version": 3
   },
   "file_extension": ".py",
   "mimetype": "text/x-python",
   "name": "python",
   "nbconvert_exporter": "python",
   "pygments_lexer": "ipython3",
   "version": "3.8.5"
  }
 },
 "nbformat": 4,
 "nbformat_minor": 4
}
